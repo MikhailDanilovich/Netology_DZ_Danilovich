{
 "cells": [
  {
   "cell_type": "markdown",
   "metadata": {},
   "source": [
    "Задание 1"
   ]
  },
  {
   "cell_type": "code",
   "execution_count": 21,
   "metadata": {},
   "outputs": [],
   "source": [
    "import json\n",
    "\n",
    "dict_newone = {}\n",
    "\n",
    "with open('purchase_log.txt', 'r', encoding='utf-8') as f:\n",
    "\n",
    "    for line in f:\n",
    "        dict_small = json.loads(line.strip())\n",
    "        dict_newone.setdefault(list(dict_small.values())[0], list(dict_small.values())[1])\n",
    "    \n",
    "del(dict_newone[list(dict_newone.keys())[0]])\n",
    "\n",
    "dict_newone"
   ]
  },
  {
   "cell_type": "markdown",
   "metadata": {},
   "source": [
    "Задание 2"
   ]
  },
  {
   "cell_type": "code",
   "execution_count": 23,
   "metadata": {},
   "outputs": [],
   "source": [
    "data_result = open('funnel.csv', 'w')\n",
    "\n",
    "with open('visit_log.csv', 'r', encoding='utf-8') as d:\n",
    "    for x in d:\n",
    "        if x.split(',')[0] in dict_newone.keys():\n",
    "            data_result.write(f\"{x.strip()},{dict_newone[x.split(',')[0]]} \\n\")\n",
    "        elif x.split(',')[0] == 'user_id':\n",
    "            data_result.write(f\"{x.strip()},Category\\n\")\n",
    "        else:\n",
    "            data_result.write(f\"{x.strip()},\\n\")           \n",
    "\n",
    "data_result.close()"
   ]
  },
  {
   "cell_type": "code",
   "execution_count": null,
   "metadata": {},
   "outputs": [],
   "source": []
  },
  {
   "cell_type": "code",
   "execution_count": null,
   "metadata": {},
   "outputs": [],
   "source": []
  }
 ],
 "metadata": {
  "kernelspec": {
   "display_name": "Python 3",
   "language": "python",
   "name": "python3"
  },
  "language_info": {
   "codemirror_mode": {
    "name": "ipython",
    "version": 3
   },
   "file_extension": ".py",
   "mimetype": "text/x-python",
   "name": "python",
   "nbconvert_exporter": "python",
   "pygments_lexer": "ipython3",
   "version": "3.7.6"
  }
 },
 "nbformat": 4,
 "nbformat_minor": 4
}
