{
 "cells": [
  {
   "cell_type": "markdown",
   "metadata": {},
   "source": [
    "Задание 1"
   ]
  },
  {
   "cell_type": "code",
   "execution_count": 1,
   "metadata": {},
   "outputs": [],
   "source": [
    "import re"
   ]
  },
  {
   "cell_type": "code",
   "execution_count": 5,
   "metadata": {},
   "outputs": [
    {
     "name": "stdout",
     "output_type": "stream",
     "text": [
      "Введите российский автомобильный номер е456ро58rus\n",
      "Номер и регион:  ['е456ро'] ['58']\n"
     ]
    }
   ],
   "source": [
    "def analyze_number():\n",
    "    registration = input('Введите российский автомобильный номер ')\n",
    "    if re.findall(r'[а-яё]{1}[0-9]{3}[а-яё]{2}[0-9]{2,3}rus', registration) == [registration]:    \n",
    "        number = re.findall(r'[а-яё]{1}[0-9]{3}[а-яё]{2}(?=[0-9]{2,3}rus)', registration)\n",
    "        region = re.findall(r'[0-9]{2,3}(?=rus)', registration)\n",
    "        print('Номер и регион: ', number, region)\n",
    "    else:\n",
    "        print('Это не автомобильный номер, попробуйте еще раз')\n",
    "\n",
    "analyze_number()"
   ]
  },
  {
   "cell_type": "markdown",
   "metadata": {},
   "source": [
    "Задание 2"
   ]
  },
  {
   "cell_type": "code",
   "execution_count": 6,
   "metadata": {},
   "outputs": [
    {
     "data": {
      "text/plain": [
       "['danilovich.echo@gmail.com']"
      ]
     },
     "execution_count": 6,
     "metadata": {},
     "output_type": "execute_result"
    }
   ],
   "source": [
    "adress = 'danilovich.echo@gmail.com'           \n",
    "re.findall(r'^[a-zA-A0-9\\_\\.\\-]{4,}@[a-zA-A0-9\\_\\.\\-]{2,}\\.[a-zA-A\\_\\.\\-]{2,4}$', adress)"
   ]
  },
  {
   "cell_type": "markdown",
   "metadata": {},
   "source": [
    "Задание 4"
   ]
  },
  {
   "cell_type": "code",
   "execution_count": 10,
   "metadata": {},
   "outputs": [
    {
     "data": {
      "text/plain": [
       "'+7(909)-119-81-45'"
      ]
     },
     "execution_count": 10,
     "metadata": {},
     "output_type": "execute_result"
    }
   ],
   "source": [
    "def check_number(number):\n",
    "    if [number] == re.findall(r'.+(?<=9)\\d{2}.*\\d{3}.*\\d{2}.*\\d{2}', number):\n",
    "        return re.sub(r'.+(?<=9)(\\d{2}).*(\\d{3}).*(\\d{2}).*(\\d{2})', r'+7(9\\1)-\\2-\\3-\\4', number)\n",
    "    else:\n",
    "        print('Номер не валиден')\n",
    "        \n",
    "\n",
    "check_number('+7909 119 81 45')"
   ]
  }
 ],
 "metadata": {
  "kernelspec": {
   "display_name": "Python 3",
   "language": "python",
   "name": "python3"
  },
  "language_info": {
   "codemirror_mode": {
    "name": "ipython",
    "version": 3
   },
   "file_extension": ".py",
   "mimetype": "text/x-python",
   "name": "python",
   "nbconvert_exporter": "python",
   "pygments_lexer": "ipython3",
   "version": "3.7.6"
  }
 },
 "nbformat": 4,
 "nbformat_minor": 4
}
