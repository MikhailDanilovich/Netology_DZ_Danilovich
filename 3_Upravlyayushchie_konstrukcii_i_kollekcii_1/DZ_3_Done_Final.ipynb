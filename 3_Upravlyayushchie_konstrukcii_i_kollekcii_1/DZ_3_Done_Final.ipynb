{
 "cells": [
  {
   "cell_type": "markdown",
   "metadata": {},
   "source": [
    "Задача 1"
   ]
  },
  {
   "cell_type": "code",
   "execution_count": 41,
   "metadata": {},
   "outputs": [
    {
     "name": "stdout",
     "output_type": "stream",
     "text": [
      "Введите слово из латинских букв testing\n",
      "t\n"
     ]
    }
   ],
   "source": [
    "x = input('Введите слово из латинских букв ')\n",
    "b = len(x)\n",
    "if b%2 != 0:\n",
    "    s = int((b - 1)/2)\n",
    "    m = x[s]\n",
    "    print(m)\n",
    "else:\n",
    "    u = int((b/2)-1)\n",
    "    w = int(u + 2)\n",
    "    q = x[u:w]\n",
    "    print(q)"
   ]
  },
  {
   "cell_type": "markdown",
   "metadata": {},
   "source": [
    "Задача 2"
   ]
  },
  {
   "cell_type": "code",
   "execution_count": 42,
   "metadata": {},
   "outputs": [
    {
     "name": "stdout",
     "output_type": "stream",
     "text": [
      "Идеальные пары:\n",
      "Alex и Emma\n",
      "Arthur и Kate\n",
      "John и Kira\n",
      "Peter и Liza\n",
      "Richard и Trisha\n"
     ]
    }
   ],
   "source": [
    "boys = ['Peter', 'Alex', 'John', 'Arthur', 'Richard']\n",
    "girls = ['Kate', 'Liza', 'Kira', 'Emma', 'Trisha']\n",
    "if len(boys) == len(girls):\n",
    "    pary = zip(sorted(boys), sorted(girls))\n",
    "    print('Идеальные пары:')\n",
    "    for name in list(pary):\n",
    "        print(f'{name[0]} и {name[1]}')\n",
    "else:\n",
    "    print('Мы никого знакомить не будем, потому что кто-то может остаться без пары!')"
   ]
  },
  {
   "cell_type": "markdown",
   "metadata": {},
   "source": [
    "Задача 3"
   ]
  },
  {
   "cell_type": "code",
   "execution_count": 43,
   "metadata": {},
   "outputs": [
    {
     "name": "stdout",
     "output_type": "stream",
     "text": [
      "Средняя температура воздуха в градусах Цельсия:\n",
      "Thailand - 23.857142857142854 C\n",
      "Germany - 13.714285714285708 C\n",
      "Russia - 3.7142857142857166 C\n",
      "Poland - 11.857142857142856 C\n"
     ]
    }
   ],
   "source": [
    "countries_temperature = [\n",
    " ['Thailand', [75.2, 77, 78.8, 73.4, 68, 75.2, 77]],\n",
    " ['Germany', [57.2, 55.4, 59, 59, 53.6, 55.4, 57.2]],\n",
    " ['Russia', [35.6, 37.4, 39.2, 41, 42.8, 39.2, 35.6]],\n",
    " ['Poland', [50, 50, 53.6, 57.2, 55.4, 55.4, 51.8]],\n",
    "]\n",
    "print('Средняя температура воздуха в градусах Цельсия:')\n",
    "for country in countries_temperature:\n",
    "    a, b, c, d, e, f, g = country[1]\n",
    "    print(f'{country[0]}', '-', (((a + b + c + d + e + f + g) / 7) - 32) / 1.8, 'C')"
   ]
  },
  {
   "cell_type": "markdown",
   "metadata": {},
   "source": [
    "Задача 4"
   ]
  },
  {
   "cell_type": "code",
   "execution_count": 44,
   "metadata": {},
   "outputs": [
    {
     "name": "stdout",
     "output_type": "stream",
     "text": [
      "23.25\n"
     ]
    }
   ],
   "source": [
    "stream = [\n",
    "    '2018-01-01,user1,3',\n",
    "    '2018-01-07,user1,4',\n",
    "    '2018-03-29,user1,1',\n",
    "    '2018-04-04,user1,13',\n",
    "    '2018-01-05,user2,7',\n",
    "    '2018-06-14,user3,4',\n",
    "    '2018-07-02,user3,10',\n",
    "    '2018-03-21,user4,19',\n",
    "    '2018-03-22,user4,4',\n",
    "    '2018-04-22,user4,8',\n",
    "    '2018-05-03,user4,9',\n",
    "    '2018-05-11,user4,11',\n",
    "]\n",
    "x = 0\n",
    "for a in stream:\n",
    "    x += int(a[17:])   \n",
    "i = 0\n",
    "users = 0\n",
    "while i < len(stream):\n",
    "    if stream[i-1][15:16] == stream[i][15:16]:\n",
    "        i += 1\n",
    "    else:\n",
    "        users += 1\n",
    "        i += 1\n",
    "print(x/users)"
   ]
  },
  {
   "cell_type": "markdown",
   "metadata": {},
   "source": [
    "Задача 5\n"
   ]
  },
  {
   "cell_type": "code",
   "execution_count": 46,
   "metadata": {},
   "outputs": [
    {
     "name": "stdout",
     "output_type": "stream",
     "text": [
      "Введите дату в формате ГГГГ-ММ-ДД 2018-01-03\n",
      "Введите название кампании: google, yandex или market google\n",
      "Ваш результат:  1843\n"
     ]
    }
   ],
   "source": [
    "stats = [\n",
    "    ['2018-01-01', 'google', 25],\n",
    "    ['2018-01-01', 'yandex', 65],\n",
    "    ['2018-01-01', 'market', 89],\n",
    "    ['2018-01-02', 'google', 574],\n",
    "    ['2018-01-02', 'yandex', 249],\n",
    "    ['2018-01-02', 'market', 994],\n",
    "    ['2018-01-03', 'google', 1843],\n",
    "    ['2018-01-03', 'yandex', 1327],\n",
    "    ['2018-01-03', 'market', 1764],\n",
    "]\n",
    "data = input('Введите дату в формате ГГГГ-ММ-ДД ')\n",
    "place = input('Введите название кампании: google, yandex или market ')\n",
    "ind = 0\n",
    "while ind < len(stats):\n",
    "    if stats[ind][0] == data and stats[ind][1] == place:      \n",
    "        print('Ваш результат: ', stats[ind][2])\n",
    "        break\n",
    "    else:\n",
    "        ind += 1"
   ]
  },
  {
   "cell_type": "markdown",
   "metadata": {},
   "source": [
    "Задача 6\n"
   ]
  },
  {
   "cell_type": "code",
   "execution_count": 47,
   "metadata": {},
   "outputs": [
    {
     "name": "stdout",
     "output_type": "stream",
     "text": [
      "103\n"
     ]
    }
   ],
   "source": [
    "data = [\n",
    "    [13, 25, 23, 34],\n",
    "    [45, 32, 44, 47],\n",
    "    [12, 33, 23, 95],\n",
    "    [13, 53, 34, 35]\n",
    "]\n",
    "i = 0 \n",
    "sumofnumders = 0\n",
    "while i < len(data):\n",
    "    sumofnumders += data[i][i] \n",
    "    i += 1\n",
    "print(sumofnumders)"
   ]
  }
 ],
 "metadata": {
  "kernelspec": {
   "display_name": "Python 3",
   "language": "python",
   "name": "python3"
  },
  "language_info": {
   "codemirror_mode": {
    "name": "ipython",
    "version": 3
   },
   "file_extension": ".py",
   "mimetype": "text/x-python",
   "name": "python",
   "nbconvert_exporter": "python",
   "pygments_lexer": "ipython3",
   "version": "3.7.6"
  }
 },
 "nbformat": 4,
 "nbformat_minor": 4
}
