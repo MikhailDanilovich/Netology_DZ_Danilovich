{
 "cells": [
  {
   "cell_type": "markdown",
   "metadata": {},
   "source": [
    "Задание 1"
   ]
  },
  {
   "cell_type": "code",
   "execution_count": 1,
   "metadata": {},
   "outputs": [
    {
     "name": "stdout",
     "output_type": "stream",
     "text": [
      "True\n"
     ]
    }
   ],
   "source": [
    "long_phrase = 'Насколько проще было бы писать программы, если бы не заказчики'\n",
    "short_phrase = '640Кб должно хватить для любых задач. Билл Гейтс (по легенде)'\n",
    "if len(long_phrase) > len(short_phrase):\n",
    "    print('True')\n",
    "else:\n",
    "    print('False')"
   ]
  },
  {
   "cell_type": "markdown",
   "metadata": {},
   "source": [
    "Задание 2"
   ]
  },
  {
   "cell_type": "code",
   "execution_count": 2,
   "metadata": {},
   "outputs": [
    {
     "name": "stdout",
     "output_type": "stream",
     "text": [
      "Введите количество байтов 67868687968706\n",
      "Объем файла равен 64724624.60394478Mb\n"
     ]
    }
   ],
   "source": [
    "z = int(input('Введите количество байтов '))\n",
    "result = z/(2**20)\n",
    "print('Объем файла равен ', result, 'Mb', sep='')"
   ]
  },
  {
   "cell_type": "markdown",
   "metadata": {},
   "source": [
    "Задание 3"
   ]
  },
  {
   "cell_type": "code",
   "execution_count": 3,
   "metadata": {},
   "outputs": [
    {
     "name": "stdout",
     "output_type": "stream",
     "text": [
      "Введите месяц: сентябрь\n",
      "Введите число: 18\n",
      "дева\n"
     ]
    }
   ],
   "source": [
    "mounth = input('Введите месяц: ')\n",
    "day = int(input('Введите число: '))\n",
    "if mounth == 'январь':\n",
    "    if day <= 20:\n",
    "        print('козерог')\n",
    "    else:\n",
    "        print('водолей')\n",
    "elif mounth == 'февраль':\n",
    "    if day <= 18:\n",
    "        print('водолей')\n",
    "    else:\n",
    "        print('рыбы')\n",
    "elif mounth == 'март':\n",
    "    if day <= 20:\n",
    "        print('рыбы')\n",
    "    else:\n",
    "        print('овен')\n",
    "elif mounth == 'апрель':\n",
    "    if day <= 20:\n",
    "        print('овен')\n",
    "    else:\n",
    "        print('телец')\n",
    "elif mounth == 'май':\n",
    "    if day <= 20:\n",
    "        print('телец')\n",
    "    else:\n",
    "        print('близнецы')\n",
    "elif mounth == 'июнь':\n",
    "    if day <= 21:\n",
    "        print('близнецы')\n",
    "    else:\n",
    "        print('рак')\n",
    "elif mounth == 'июль':\n",
    "    if day <= 22:\n",
    "        print('рак')\n",
    "    else:\n",
    "        print('лев')\n",
    "elif mounth == 'август':\n",
    "    if day <= 23:\n",
    "        print('лев')\n",
    "    else:\n",
    "        print('дева')\n",
    "elif mounth == 'сентябрь':\n",
    "    if day <= 23:\n",
    "        print('дева')\n",
    "    else:\n",
    "        print('весы')\n",
    "elif mounth == 'октябрь':\n",
    "    if day <= 23:\n",
    "        print('весы')\n",
    "    else:\n",
    "        print('скорпион')\n",
    "elif mounth == 'ноябрь':\n",
    "    if day <= 22:\n",
    "        print('скорпион')\n",
    "    else:\n",
    "        print('стрелец')\n",
    "elif mounth == 'декабрь':\n",
    "    if day <= 21:\n",
    "        print('стрелец')\n",
    "    else:\n",
    "        print('козерог')"
   ]
  },
  {
   "cell_type": "markdown",
   "metadata": {},
   "source": [
    "Задание 4"
   ]
  },
  {
   "cell_type": "code",
   "execution_count": 4,
   "metadata": {},
   "outputs": [
    {
     "name": "stdout",
     "output_type": "stream",
     "text": [
      "Введите заработанную плату в месяц: 10000\n",
      "Введите сколько процентов уходит на ипотеку: 30\n",
      "Введите сколько процентов уходит на жизнь: 50\n",
      "Введите количество премий за год: 2\n",
      "На ипотеку было потрачено: 36000 рублей Было накоплено: 34000 рублей\n"
     ]
    }
   ],
   "source": [
    "zp = int(input('Введите заработанную плату в месяц: '))\n",
    "ipo = int(input('Введите сколько процентов уходит на ипотеку: '))\n",
    "life = int(input('Введите сколько процентов уходит на жизнь: '))\n",
    "numberofprem = int(input('Введите количество премий за год: '))\n",
    "print('На ипотеку было потрачено:', int((zp*12*ipo)/100), 'рублей Было накоплено:', int((zp*numberofprem)/2 + zp*12 - (zp*12*ipo)/100 - (zp*12*life)/100), 'рублей')\n"
   ]
  }
 ],
 "metadata": {
  "kernelspec": {
   "display_name": "Python 3",
   "language": "python",
   "name": "python3"
  },
  "language_info": {
   "codemirror_mode": {
    "name": "ipython",
    "version": 3
   },
   "file_extension": ".py",
   "mimetype": "text/x-python",
   "name": "python",
   "nbconvert_exporter": "python",
   "pygments_lexer": "ipython3",
   "version": "3.7.6"
  }
 },
 "nbformat": 4,
 "nbformat_minor": 4
}
