{
 "cells": [
  {
   "cell_type": "markdown",
   "metadata": {},
   "source": [
    "График 1"
   ]
  },
  {
   "cell_type": "markdown",
   "metadata": {},
   "source": [
    "Сравниваем режиссеров и количество фильмов их авторства, которые есть в нашем датасете. Инфографика нужна для наглядности. "
   ]
  },
  {
   "cell_type": "code",
   "execution_count": 3,
   "metadata": {},
   "outputs": [],
   "source": [
    "import pandas as pd\n",
    "\n",
    "import matplotlib.pyplot as plt\n",
    "\n",
    "import re"
   ]
  },
  {
   "cell_type": "code",
   "execution_count": 2,
   "metadata": {},
   "outputs": [],
   "source": [
    "films = pd.read_csv('tmdb_5000_credits.csv')"
   ]
  },
  {
   "cell_type": "code",
   "execution_count": 3,
   "metadata": {},
   "outputs": [],
   "source": [
    "def add_director(row):\n",
    "\n",
    "    x = re.findall(r'(?<=\"Director\",\\s\"name\":\\s\")[^\"]+', row)\n",
    "    return ''.join(x)"
   ]
  },
  {
   "cell_type": "code",
   "execution_count": 4,
   "metadata": {},
   "outputs": [],
   "source": [
    "films['director'] = films['crew'].apply(add_director)\n",
    "\n",
    "films = films[ films.director != '' ]"
   ]
  },
  {
   "cell_type": "code",
   "execution_count": 5,
   "metadata": {},
   "outputs": [],
   "source": [
    "films = films.groupby('director').count().reset_index().sort_values('movie_id', ascending=False).head(10)"
   ]
  },
  {
   "cell_type": "code",
   "execution_count": 6,
   "metadata": {},
   "outputs": [
    {
     "data": {
      "image/png": "[encoded data removed]",
      "text/plain": [
       "<Figure size 432x288 with 1 Axes>"
      ]
     },
     "metadata": {
      "needs_background": "light"
     },
     "output_type": "display_data"
    }
   ],
   "source": [
    "plt.barh(films['director'], films['movie_id'])\n",
    "plt.xlabel('Количество фильмов')\n",
    "plt.ylabel('Режиссеры')\n",
    "plt.title('Десятка самых продуктивных режиссеров')\n",
    "plt.text(27, 0.1, 'Самый продуктивный режиссер')\n",
    "plt.grid()"
   ]
  },
  {
   "cell_type": "markdown",
   "metadata": {},
   "source": [
    "График 2"
   ]
  },
  {
   "cell_type": "markdown",
   "metadata": {},
   "source": [
    "Сравниваем фильмы с самыми большими съемочными группами по тому, сколько в них актеров. В итоге видим, что количество актеров и других работников на картине может быть не связано. То есть то, что остается за кадром, может быть тоже интересно, и можно его поизучать. "
   ]
  },
  {
   "cell_type": "code",
   "execution_count": 24,
   "metadata": {},
   "outputs": [],
   "source": [
    "from ast import literal_eval"
   ]
  },
  {
   "cell_type": "code",
   "execution_count": 25,
   "metadata": {},
   "outputs": [],
   "source": [
    "films = pd.read_csv('tmdb_5000_credits.csv')"
   ]
  },
  {
   "cell_type": "code",
   "execution_count": 26,
   "metadata": {},
   "outputs": [],
   "source": [
    "def count_len(row):\n",
    "    return len(literal_eval(row))"
   ]
  },
  {
   "cell_type": "code",
   "execution_count": 27,
   "metadata": {},
   "outputs": [],
   "source": [
    "films['crew_quantity'] = films['crew'].apply(count_len)\n",
    "films['cast_quantity'] = films['cast'].apply(count_len)"
   ]
  },
  {
   "cell_type": "code",
   "execution_count": 28,
   "metadata": {},
   "outputs": [
    {
     "data": {
      "text/html": [
       "<div>\n",
       "<style scoped>\n",
       "    .dataframe tbody tr th:only-of-type {\n",
       "        vertical-align: middle;\n",
       "    }\n",
       "\n",
       "    .dataframe tbody tr th {\n",
       "        vertical-align: top;\n",
       "    }\n",
       "\n",
       "    .dataframe thead th {\n",
       "        text-align: right;\n",
       "    }\n",
       "</style>\n",
       "<table border=\"1\" class=\"dataframe\">\n",
       "  <thead>\n",
       "    <tr style=\"text-align: right;\">\n",
       "      <th></th>\n",
       "      <th>movie_id</th>\n",
       "      <th>title</th>\n",
       "      <th>cast</th>\n",
       "      <th>crew</th>\n",
       "      <th>crew_quantity</th>\n",
       "      <th>cast_quantity</th>\n",
       "    </tr>\n",
       "  </thead>\n",
       "  <tbody>\n",
       "    <tr>\n",
       "      <th>0</th>\n",
       "      <td>19995</td>\n",
       "      <td>Avatar</td>\n",
       "      <td>[{\"cast_id\": 242, \"character\": \"Jake Sully\", \"...</td>\n",
       "      <td>[{\"credit_id\": \"52fe48009251416c750aca23\", \"de...</td>\n",
       "      <td>153</td>\n",
       "      <td>83</td>\n",
       "    </tr>\n",
       "    <tr>\n",
       "      <th>1</th>\n",
       "      <td>285</td>\n",
       "      <td>Pirates of the Caribbean: At World's End</td>\n",
       "      <td>[{\"cast_id\": 4, \"character\": \"Captain Jack Spa...</td>\n",
       "      <td>[{\"credit_id\": \"52fe4232c3a36847f800b579\", \"de...</td>\n",
       "      <td>32</td>\n",
       "      <td>34</td>\n",
       "    </tr>\n",
       "    <tr>\n",
       "      <th>2</th>\n",
       "      <td>206647</td>\n",
       "      <td>Spectre</td>\n",
       "      <td>[{\"cast_id\": 1, \"character\": \"James Bond\", \"cr...</td>\n",
       "      <td>[{\"credit_id\": \"54805967c3a36829b5002c41\", \"de...</td>\n",
       "      <td>155</td>\n",
       "      <td>83</td>\n",
       "    </tr>\n",
       "    <tr>\n",
       "      <th>3</th>\n",
       "      <td>49026</td>\n",
       "      <td>The Dark Knight Rises</td>\n",
       "      <td>[{\"cast_id\": 2, \"character\": \"Bruce Wayne / Ba...</td>\n",
       "      <td>[{\"credit_id\": \"52fe4781c3a36847f81398c3\", \"de...</td>\n",
       "      <td>217</td>\n",
       "      <td>158</td>\n",
       "    </tr>\n",
       "    <tr>\n",
       "      <th>4</th>\n",
       "      <td>49529</td>\n",
       "      <td>John Carter</td>\n",
       "      <td>[{\"cast_id\": 5, \"character\": \"John Carter\", \"c...</td>\n",
       "      <td>[{\"credit_id\": \"52fe479ac3a36847f813eaa3\", \"de...</td>\n",
       "      <td>132</td>\n",
       "      <td>27</td>\n",
       "    </tr>\n",
       "    <tr>\n",
       "      <th>...</th>\n",
       "      <td>...</td>\n",
       "      <td>...</td>\n",
       "      <td>...</td>\n",
       "      <td>...</td>\n",
       "      <td>...</td>\n",
       "      <td>...</td>\n",
       "    </tr>\n",
       "    <tr>\n",
       "      <th>4798</th>\n",
       "      <td>9367</td>\n",
       "      <td>El Mariachi</td>\n",
       "      <td>[{\"cast_id\": 1, \"character\": \"El Mariachi\", \"c...</td>\n",
       "      <td>[{\"credit_id\": \"52fe44eec3a36847f80b280b\", \"de...</td>\n",
       "      <td>11</td>\n",
       "      <td>7</td>\n",
       "    </tr>\n",
       "    <tr>\n",
       "      <th>4799</th>\n",
       "      <td>72766</td>\n",
       "      <td>Newlyweds</td>\n",
       "      <td>[{\"cast_id\": 1, \"character\": \"Buzzy\", \"credit_...</td>\n",
       "      <td>[{\"credit_id\": \"52fe487dc3a368484e0fb013\", \"de...</td>\n",
       "      <td>8</td>\n",
       "      <td>5</td>\n",
       "    </tr>\n",
       "    <tr>\n",
       "      <th>4800</th>\n",
       "      <td>231617</td>\n",
       "      <td>Signed, Sealed, Delivered</td>\n",
       "      <td>[{\"cast_id\": 8, \"character\": \"Oliver O\\u2019To...</td>\n",
       "      <td>[{\"credit_id\": \"52fe4df3c3a36847f8275ecf\", \"de...</td>\n",
       "      <td>13</td>\n",
       "      <td>7</td>\n",
       "    </tr>\n",
       "    <tr>\n",
       "      <th>4801</th>\n",
       "      <td>126186</td>\n",
       "      <td>Shanghai Calling</td>\n",
       "      <td>[{\"cast_id\": 3, \"character\": \"Sam\", \"credit_id...</td>\n",
       "      <td>[{\"credit_id\": \"52fe4ad9c3a368484e16a36b\", \"de...</td>\n",
       "      <td>2</td>\n",
       "      <td>5</td>\n",
       "    </tr>\n",
       "    <tr>\n",
       "      <th>4802</th>\n",
       "      <td>25975</td>\n",
       "      <td>My Date with Drew</td>\n",
       "      <td>[{\"cast_id\": 3, \"character\": \"Herself\", \"credi...</td>\n",
       "      <td>[{\"credit_id\": \"58ce021b9251415a390165d9\", \"de...</td>\n",
       "      <td>5</td>\n",
       "      <td>8</td>\n",
       "    </tr>\n",
       "  </tbody>\n",
       "</table>\n",
       "<p>4803 rows × 6 columns</p>\n",
       "</div>"
      ],
      "text/plain": [
       "      movie_id                                     title  \\\n",
       "0        19995                                    Avatar   \n",
       "1          285  Pirates of the Caribbean: At World's End   \n",
       "2       206647                                   Spectre   \n",
       "3        49026                     The Dark Knight Rises   \n",
       "4        49529                               John Carter   \n",
       "...        ...                                       ...   \n",
       "4798      9367                               El Mariachi   \n",
       "4799     72766                                 Newlyweds   \n",
       "4800    231617                 Signed, Sealed, Delivered   \n",
       "4801    126186                          Shanghai Calling   \n",
       "4802     25975                         My Date with Drew   \n",
       "\n",
       "                                                   cast  \\\n",
       "0     [{\"cast_id\": 242, \"character\": \"Jake Sully\", \"...   \n",
       "1     [{\"cast_id\": 4, \"character\": \"Captain Jack Spa...   \n",
       "2     [{\"cast_id\": 1, \"character\": \"James Bond\", \"cr...   \n",
       "3     [{\"cast_id\": 2, \"character\": \"Bruce Wayne / Ba...   \n",
       "4     [{\"cast_id\": 5, \"character\": \"John Carter\", \"c...   \n",
       "...                                                 ...   \n",
       "4798  [{\"cast_id\": 1, \"character\": \"El Mariachi\", \"c...   \n",
       "4799  [{\"cast_id\": 1, \"character\": \"Buzzy\", \"credit_...   \n",
       "4800  [{\"cast_id\": 8, \"character\": \"Oliver O\\u2019To...   \n",
       "4801  [{\"cast_id\": 3, \"character\": \"Sam\", \"credit_id...   \n",
       "4802  [{\"cast_id\": 3, \"character\": \"Herself\", \"credi...   \n",
       "\n",
       "                                                   crew  crew_quantity  \\\n",
       "0     [{\"credit_id\": \"52fe48009251416c750aca23\", \"de...            153   \n",
       "1     [{\"credit_id\": \"52fe4232c3a36847f800b579\", \"de...             32   \n",
       "2     [{\"credit_id\": \"54805967c3a36829b5002c41\", \"de...            155   \n",
       "3     [{\"credit_id\": \"52fe4781c3a36847f81398c3\", \"de...            217   \n",
       "4     [{\"credit_id\": \"52fe479ac3a36847f813eaa3\", \"de...            132   \n",
       "...                                                 ...            ...   \n",
       "4798  [{\"credit_id\": \"52fe44eec3a36847f80b280b\", \"de...             11   \n",
       "4799  [{\"credit_id\": \"52fe487dc3a368484e0fb013\", \"de...              8   \n",
       "4800  [{\"credit_id\": \"52fe4df3c3a36847f8275ecf\", \"de...             13   \n",
       "4801  [{\"credit_id\": \"52fe4ad9c3a368484e16a36b\", \"de...              2   \n",
       "4802  [{\"credit_id\": \"58ce021b9251415a390165d9\", \"de...              5   \n",
       "\n",
       "      cast_quantity  \n",
       "0                83  \n",
       "1                34  \n",
       "2                83  \n",
       "3               158  \n",
       "4                27  \n",
       "...             ...  \n",
       "4798              7  \n",
       "4799              5  \n",
       "4800              7  \n",
       "4801              5  \n",
       "4802              8  \n",
       "\n",
       "[4803 rows x 6 columns]"
      ]
     },
     "execution_count": 28,
     "metadata": {},
     "output_type": "execute_result"
    }
   ],
   "source": [
    "films"
   ]
  },
  {
   "cell_type": "code",
   "execution_count": 29,
   "metadata": {},
   "outputs": [],
   "source": [
    "films = films.sort_values('crew_quantity', ascending=False).reset_index().head(15)\n",
    "\n",
    "films = films[['cast_quantity', 'crew_quantity']]\n",
    "\n",
    "films = films.set_index('crew_quantity')"
   ]
  },
  {
   "cell_type": "code",
   "execution_count": 30,
   "metadata": {},
   "outputs": [
    {
     "data": {
      "text/plain": [
       "<matplotlib.axes._subplots.AxesSubplot at 0x7fa4e8e79d90>"
      ]
     },
     "execution_count": 30,
     "metadata": {},
     "output_type": "execute_result"
    },
    {
     "data": {
      "image/png": "[encoded data removed]",
      "text/plain": [
       "<Figure size 432x288 with 1 Axes>"
      ]
     },
     "metadata": {
      "needs_background": "light"
     },
     "output_type": "display_data"
    }
   ],
   "source": [
    "films.plot(kind='bar')"
   ]
  },
  {
   "cell_type": "markdown",
   "metadata": {},
   "source": [
    "График 3\n"
   ]
  },
  {
   "cell_type": "markdown",
   "metadata": {},
   "source": [
    "Смотрим, какое количество слов предпочитают авторы названий фильмов. Предположим, это может быть интересно для изучения особенностей нейминга. В данном случае, кажется, пирог вполне наглядно отражает результат."
   ]
  },
  {
   "cell_type": "code",
   "execution_count": 35,
   "metadata": {},
   "outputs": [],
   "source": [
    "films = pd.read_csv('tmdb_5000_credits.csv')"
   ]
  },
  {
   "cell_type": "code",
   "execution_count": 36,
   "metadata": {},
   "outputs": [],
   "source": [
    "def count_words(row):\n",
    "    return len(row.split(' '))"
   ]
  },
  {
   "cell_type": "code",
   "execution_count": 37,
   "metadata": {},
   "outputs": [
    {
     "data": {
      "text/plain": [
       "Text(0.5, 1.0, 'Количество фильмов с длиной названий от 1 до 5 слов')"
      ]
     },
     "execution_count": 37,
     "metadata": {},
     "output_type": "execute_result"
    },
    {
     "data": {
      "image/png": "[encoded data removed]",
      "text/plain": [
       "<Figure size 432x288 with 1 Axes>"
      ]
     },
     "metadata": {},
     "output_type": "display_data"
    }
   ],
   "source": [
    "films['len_of_names'] = films['title'].apply(count_words)\n",
    "\n",
    "films['quantity_of_films'] = films['movie_id']\n",
    "\n",
    "films = films[['len_of_names', 'quantity_of_films']] \n",
    "\n",
    "films = films.groupby('len_of_names').count().head(5)\n",
    "    \n",
    "films.plot(kind='pie', y='quantity_of_films')\n",
    "\n",
    "plt.title('Количество фильмов с длиной названий от 1 до 5 слов')"
   ]
  },
  {
   "cell_type": "markdown",
   "metadata": {},
   "source": [
    "График 4 "
   ]
  },
  {
   "cell_type": "markdown",
   "metadata": {},
   "source": [
    "Решаем узнать, над какими фильмами работало больше всего людей (съемочные группы + актеры). Минимальная инфографика вполне здесь подходит. "
   ]
  },
  {
   "cell_type": "code",
   "execution_count": 44,
   "metadata": {},
   "outputs": [],
   "source": [
    "from ast import literal_eval"
   ]
  },
  {
   "cell_type": "code",
   "execution_count": 45,
   "metadata": {},
   "outputs": [],
   "source": [
    "films = pd.read_csv('tmdb_5000_credits.csv')"
   ]
  },
  {
   "cell_type": "code",
   "execution_count": 46,
   "metadata": {},
   "outputs": [],
   "source": [
    "def count_len(row):\n",
    "    return len(literal_eval(row))"
   ]
  },
  {
   "cell_type": "code",
   "execution_count": 47,
   "metadata": {},
   "outputs": [],
   "source": [
    "films['quantity'] = films['crew'].apply(count_len) + films['cast'].apply(count_len)"
   ]
  },
  {
   "cell_type": "code",
   "execution_count": 48,
   "metadata": {},
   "outputs": [],
   "source": [
    "films = films.sort_values('quantity', ascending=False).reset_index().head(15)\n",
    "\n",
    "films = films[['title', 'quantity']]\n",
    "\n",
    "films = films.set_index('title')"
   ]
  },
  {
   "cell_type": "code",
   "execution_count": 49,
   "metadata": {},
   "outputs": [
    {
     "data": {
      "text/html": [
       "<style  type=\"text/css\" >\n",
       "    #T_755ea858_c9ca_11ea_a018_acde48001122row0_col0 {\n",
       "            width:  10em;\n",
       "             height:  80%;\n",
       "            background:  linear-gradient(90deg,#d65f5f 100.0%, transparent 100.0%);\n",
       "        }    #T_755ea858_c9ca_11ea_a018_acde48001122row1_col0 {\n",
       "            width:  10em;\n",
       "             height:  80%;\n",
       "            background:  linear-gradient(90deg,#d65f5f 81.7%, transparent 81.7%);\n",
       "        }    #T_755ea858_c9ca_11ea_a018_acde48001122row2_col0 {\n",
       "            width:  10em;\n",
       "             height:  80%;\n",
       "            background:  linear-gradient(90deg,#d65f5f 62.9%, transparent 62.9%);\n",
       "        }    #T_755ea858_c9ca_11ea_a018_acde48001122row3_col0 {\n",
       "            width:  10em;\n",
       "             height:  80%;\n",
       "            background:  linear-gradient(90deg,#d65f5f 58.7%, transparent 58.7%);\n",
       "        }    #T_755ea858_c9ca_11ea_a018_acde48001122row4_col0 {\n",
       "            width:  10em;\n",
       "             height:  80%;\n",
       "            background:  linear-gradient(90deg,#d65f5f 36.2%, transparent 36.2%);\n",
       "        }    #T_755ea858_c9ca_11ea_a018_acde48001122row5_col0 {\n",
       "            width:  10em;\n",
       "             height:  80%;\n",
       "            background:  linear-gradient(90deg,#d65f5f 21.1%, transparent 21.1%);\n",
       "        }    #T_755ea858_c9ca_11ea_a018_acde48001122row6_col0 {\n",
       "            width:  10em;\n",
       "             height:  80%;\n",
       "            background:  linear-gradient(90deg,#d65f5f 14.1%, transparent 14.1%);\n",
       "        }    #T_755ea858_c9ca_11ea_a018_acde48001122row7_col0 {\n",
       "            width:  10em;\n",
       "             height:  80%;\n",
       "            background:  linear-gradient(90deg,#d65f5f 12.2%, transparent 12.2%);\n",
       "        }    #T_755ea858_c9ca_11ea_a018_acde48001122row8_col0 {\n",
       "            width:  10em;\n",
       "             height:  80%;\n",
       "            background:  linear-gradient(90deg,#d65f5f 9.9%, transparent 9.9%);\n",
       "        }    #T_755ea858_c9ca_11ea_a018_acde48001122row9_col0 {\n",
       "            width:  10em;\n",
       "             height:  80%;\n",
       "            background:  linear-gradient(90deg,#d65f5f 6.1%, transparent 6.1%);\n",
       "        }    #T_755ea858_c9ca_11ea_a018_acde48001122row10_col0 {\n",
       "            width:  10em;\n",
       "             height:  80%;\n",
       "            background:  linear-gradient(90deg,#d65f5f 5.6%, transparent 5.6%);\n",
       "        }    #T_755ea858_c9ca_11ea_a018_acde48001122row11_col0 {\n",
       "            width:  10em;\n",
       "             height:  80%;\n",
       "            background:  linear-gradient(90deg,#d65f5f 3.8%, transparent 3.8%);\n",
       "        }    #T_755ea858_c9ca_11ea_a018_acde48001122row12_col0 {\n",
       "            width:  10em;\n",
       "             height:  80%;\n",
       "            background:  linear-gradient(90deg,#d65f5f 2.3%, transparent 2.3%);\n",
       "        }    #T_755ea858_c9ca_11ea_a018_acde48001122row13_col0 {\n",
       "            width:  10em;\n",
       "             height:  80%;\n",
       "            background:  linear-gradient(90deg,#d65f5f 1.9%, transparent 1.9%);\n",
       "        }    #T_755ea858_c9ca_11ea_a018_acde48001122row14_col0 {\n",
       "            width:  10em;\n",
       "             height:  80%;\n",
       "        }</style><table id=\"T_755ea858_c9ca_11ea_a018_acde48001122\" ><thead>    <tr>        <th class=\"blank level0\" ></th>        <th class=\"col_heading level0 col0\" >quantity</th>    </tr>    <tr>        <th class=\"index_name level0\" >title</th>        <th class=\"blank\" ></th>    </tr></thead><tbody>\n",
       "                <tr>\n",
       "                        <th id=\"T_755ea858_c9ca_11ea_a018_acde48001122level0_row0\" class=\"row_heading level0 row0\" >Jurassic World</th>\n",
       "                        <td id=\"T_755ea858_c9ca_11ea_a018_acde48001122row0_col0\" class=\"data row0 col0\" >463</td>\n",
       "            </tr>\n",
       "            <tr>\n",
       "                        <th id=\"T_755ea858_c9ca_11ea_a018_acde48001122level0_row1\" class=\"row_heading level0 row1\" >15 Minutes</th>\n",
       "                        <td id=\"T_755ea858_c9ca_11ea_a018_acde48001122row1_col0\" class=\"data row1 col0\" >424</td>\n",
       "            </tr>\n",
       "            <tr>\n",
       "                        <th id=\"T_755ea858_c9ca_11ea_a018_acde48001122level0_row2\" class=\"row_heading level0 row2\" >The Wolf of Wall Street</th>\n",
       "                        <td id=\"T_755ea858_c9ca_11ea_a018_acde48001122row2_col0\" class=\"data row2 col0\" >384</td>\n",
       "            </tr>\n",
       "            <tr>\n",
       "                        <th id=\"T_755ea858_c9ca_11ea_a018_acde48001122level0_row3\" class=\"row_heading level0 row3\" >The Dark Knight Rises</th>\n",
       "                        <td id=\"T_755ea858_c9ca_11ea_a018_acde48001122row3_col0\" class=\"data row3 col0\" >375</td>\n",
       "            </tr>\n",
       "            <tr>\n",
       "                        <th id=\"T_755ea858_c9ca_11ea_a018_acde48001122level0_row4\" class=\"row_heading level0 row4\" >Jason Bourne</th>\n",
       "                        <td id=\"T_755ea858_c9ca_11ea_a018_acde48001122row4_col0\" class=\"data row4 col0\" >327</td>\n",
       "            </tr>\n",
       "            <tr>\n",
       "                        <th id=\"T_755ea858_c9ca_11ea_a018_acde48001122level0_row5\" class=\"row_heading level0 row5\" >Monsters, Inc.</th>\n",
       "                        <td id=\"T_755ea858_c9ca_11ea_a018_acde48001122row5_col0\" class=\"data row5 col0\" >295</td>\n",
       "            </tr>\n",
       "            <tr>\n",
       "                        <th id=\"T_755ea858_c9ca_11ea_a018_acde48001122level0_row6\" class=\"row_heading level0 row6\" >Contact</th>\n",
       "                        <td id=\"T_755ea858_c9ca_11ea_a018_acde48001122row6_col0\" class=\"data row6 col0\" >280</td>\n",
       "            </tr>\n",
       "            <tr>\n",
       "                        <th id=\"T_755ea858_c9ca_11ea_a018_acde48001122level0_row7\" class=\"row_heading level0 row7\" >The Core</th>\n",
       "                        <td id=\"T_755ea858_c9ca_11ea_a018_acde48001122row7_col0\" class=\"data row7 col0\" >276</td>\n",
       "            </tr>\n",
       "            <tr>\n",
       "                        <th id=\"T_755ea858_c9ca_11ea_a018_acde48001122level0_row8\" class=\"row_heading level0 row8\" >V for Vendetta</th>\n",
       "                        <td id=\"T_755ea858_c9ca_11ea_a018_acde48001122row8_col0\" class=\"data row8 col0\" >271</td>\n",
       "            </tr>\n",
       "            <tr>\n",
       "                        <th id=\"T_755ea858_c9ca_11ea_a018_acde48001122level0_row9\" class=\"row_heading level0 row9\" >Batman v Superman: Dawn of Justice</th>\n",
       "                        <td id=\"T_755ea858_c9ca_11ea_a018_acde48001122row9_col0\" class=\"data row9 col0\" >263</td>\n",
       "            </tr>\n",
       "            <tr>\n",
       "                        <th id=\"T_755ea858_c9ca_11ea_a018_acde48001122level0_row10\" class=\"row_heading level0 row10\" >The Avengers</th>\n",
       "                        <td id=\"T_755ea858_c9ca_11ea_a018_acde48001122row10_col0\" class=\"data row10 col0\" >262</td>\n",
       "            </tr>\n",
       "            <tr>\n",
       "                        <th id=\"T_755ea858_c9ca_11ea_a018_acde48001122level0_row11\" class=\"row_heading level0 row11\" >Austin Powers in Goldmember</th>\n",
       "                        <td id=\"T_755ea858_c9ca_11ea_a018_acde48001122row11_col0\" class=\"data row11 col0\" >258</td>\n",
       "            </tr>\n",
       "            <tr>\n",
       "                        <th id=\"T_755ea858_c9ca_11ea_a018_acde48001122level0_row12\" class=\"row_heading level0 row12\" >The Day After Tomorrow</th>\n",
       "                        <td id=\"T_755ea858_c9ca_11ea_a018_acde48001122row12_col0\" class=\"data row12 col0\" >255</td>\n",
       "            </tr>\n",
       "            <tr>\n",
       "                        <th id=\"T_755ea858_c9ca_11ea_a018_acde48001122level0_row13\" class=\"row_heading level0 row13\" >Les Misérables</th>\n",
       "                        <td id=\"T_755ea858_c9ca_11ea_a018_acde48001122row13_col0\" class=\"data row13 col0\" >254</td>\n",
       "            </tr>\n",
       "            <tr>\n",
       "                        <th id=\"T_755ea858_c9ca_11ea_a018_acde48001122level0_row14\" class=\"row_heading level0 row14\" >Batman Begins</th>\n",
       "                        <td id=\"T_755ea858_c9ca_11ea_a018_acde48001122row14_col0\" class=\"data row14 col0\" >250</td>\n",
       "            </tr>\n",
       "    </tbody></table>"
      ],
      "text/plain": [
       "<pandas.io.formats.style.Styler at 0x7fa4e8407350>"
      ]
     },
     "execution_count": 49,
     "metadata": {},
     "output_type": "execute_result"
    }
   ],
   "source": [
    "films.style.bar()"
   ]
  },
  {
   "cell_type": "markdown",
   "metadata": {},
   "source": [
    "График 5 "
   ]
  },
  {
   "cell_type": "markdown",
   "metadata": {},
   "source": [
    "На этом графике смотрим, какие режисеры предпочитают снимать много актеров в одном фильме (100 и больше человек). Не знаю, насколько это здесь подходит, но выбрал тепловую карту. "
   ]
  },
  {
   "cell_type": "code",
   "execution_count": 18,
   "metadata": {},
   "outputs": [],
   "source": [
    "import re\n",
    "\n",
    "import seaborn as sns"
   ]
  },
  {
   "cell_type": "code",
   "execution_count": 19,
   "metadata": {},
   "outputs": [],
   "source": [
    "films = pd.read_csv('tmdb_5000_credits.csv')"
   ]
  },
  {
   "cell_type": "code",
   "execution_count": 20,
   "metadata": {},
   "outputs": [],
   "source": [
    "def add_director(row):\n",
    "\n",
    "    x = re.findall(r'(?<=\"Director\",\\s\"name\":\\s\")[^\"]+', row)\n",
    "    return ''.join(x)"
   ]
  },
  {
   "cell_type": "code",
   "execution_count": 21,
   "metadata": {},
   "outputs": [],
   "source": [
    "films['director'] = films['crew'].apply(add_director)\n",
    "\n",
    "films = films[ films.director != '' ]"
   ]
  },
  {
   "cell_type": "code",
   "execution_count": 22,
   "metadata": {},
   "outputs": [],
   "source": [
    "def add_actors(row):\n",
    "    n = len(re.findall(r'(?<=\"name\":\\s\")[^\"]+', row))\n",
    "    if 0 < n < 50: \n",
    "        return '0 - 49 actors'\n",
    "    elif 50 <= n < 100:\n",
    "        return '50 - 99 actors'\n",
    "    elif 100 <= n < 150:\n",
    "        return '100 - 149 actors'\n",
    "    elif 150 <= n < 200:\n",
    "        return '150 - 199 actors'\n",
    "    elif n >= 200: \n",
    "        return '200 and more actors'"
   ]
  },
  {
   "cell_type": "code",
   "execution_count": 23,
   "metadata": {},
   "outputs": [],
   "source": [
    "films['quantity_of_actors'] = films['cast'].apply(add_actors)\n",
    "films = films[ (films.quantity_of_actors == '150 - 199 actors') | (films.quantity_of_actors == '200 and more actors') | (films.quantity_of_actors == '100 - 149 actors') ]\n"
   ]
  },
  {
   "cell_type": "code",
   "execution_count": 24,
   "metadata": {},
   "outputs": [],
   "source": [
    "films = films.pivot_table(index = 'director', columns = 'quantity_of_actors', values = 'title', aggfunc = 'count', fill_value = 0)"
   ]
  },
  {
   "cell_type": "code",
   "execution_count": 25,
   "metadata": {},
   "outputs": [
    {
     "data": {
      "text/plain": [
       "<matplotlib.axes._subplots.AxesSubplot at 0x7fc1cccb5a50>"
      ]
     },
     "execution_count": 25,
     "metadata": {},
     "output_type": "execute_result"
    },
    {
     "data": {
      "image/png": "[encoded data removed]",
      "text/plain": [
       "<Figure size 1440x1080 with 2 Axes>"
      ]
     },
     "metadata": {
      "needs_background": "light"
     },
     "output_type": "display_data"
    }
   ],
   "source": [
    "# ax = sns.heatmap(films)\n",
    "\n",
    "plt.subplots(figsize=(20,15))\n",
    "\n",
    "sns.heatmap(films)"
   ]
  }
 ],
 "metadata": {
  "kernelspec": {
   "display_name": "Python 3",
   "language": "python",
   "name": "python3"
  },
  "language_info": {
   "codemirror_mode": {
    "name": "ipython",
    "version": 3
   },
   "file_extension": ".py",
   "mimetype": "text/x-python",
   "name": "python",
   "nbconvert_exporter": "python",
   "pygments_lexer": "ipython3",
   "version": "3.7.6"
  }
 },
 "nbformat": 4,
 "nbformat_minor": 4
}
