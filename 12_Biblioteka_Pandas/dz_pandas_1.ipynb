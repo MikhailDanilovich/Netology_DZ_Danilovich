{
 "cells": [
  {
   "cell_type": "markdown",
   "metadata": {},
   "source": [
    "Задание 1"
   ]
  },
  {
   "cell_type": "code",
   "execution_count": 1,
   "metadata": {},
   "outputs": [],
   "source": [
    "import pandas as pd"
   ]
  },
  {
   "cell_type": "code",
   "execution_count": 2,
   "metadata": {},
   "outputs": [
    {
     "data": {
      "text/plain": [
       "'Shawshank Redemption, The (1994)'"
      ]
     },
     "execution_count": 2,
     "metadata": {},
     "output_type": "execute_result"
    }
   ],
   "source": [
    "data = pd.read_csv('ratings.csv') \n",
    "\n",
    "t_data = pd.read_csv('movies.csv')\n",
    "\n",
    "(t_data[ t_data.movieId == data[ data.rating == max(data.rating) ]['movieId']\n",
    "        .value_counts()\n",
    "        .index[0]\n",
    "        .tolist() ]\n",
    " .values\n",
    " .tolist()[0][1])"
   ]
  },
  {
   "cell_type": "markdown",
   "metadata": {},
   "source": [
    "Задание 2"
   ]
  },
  {
   "cell_type": "code",
   "execution_count": 3,
   "metadata": {},
   "outputs": [
    {
     "data": {
      "text/plain": [
       "array(['Estonia'], dtype=object)"
      ]
     },
     "execution_count": 3,
     "metadata": {},
     "output_type": "execute_result"
    }
   ],
   "source": [
    "data = pd.read_csv('power.csv')\n",
    "\n",
    "data[ data['country'].str.contains('ston', case=False) ]['country'].unique()"
   ]
  },
  {
   "cell_type": "code",
   "execution_count": 4,
   "metadata": {},
   "outputs": [
    {
     "data": {
      "text/plain": [
       "array(['Latvia'], dtype=object)"
      ]
     },
     "execution_count": 4,
     "metadata": {},
     "output_type": "execute_result"
    }
   ],
   "source": [
    "data[ data['country'].str.contains('Latv', case=False) ]['country'].unique()"
   ]
  },
  {
   "cell_type": "code",
   "execution_count": 5,
   "metadata": {},
   "outputs": [
    {
     "data": {
      "text/plain": [
       "array(['Korea, Republic of', 'Lithuania', 'Australia', 'Philippines',\n",
       "       'Republic of Moldova', 'Belize', 'Bolivia (Plur. State of)',\n",
       "       'Dominican Republic', 'Liberia', 'Libya',\n",
       "       'Venezuela (Bolivar. Rep.)', 'Mali', 'Syrian Arab Republic',\n",
       "       'Somalia', 'Mongolia', 'Liechtenstein', 'Wallis and Futuna Is.'],\n",
       "      dtype=object)"
      ]
     },
     "execution_count": 5,
     "metadata": {},
     "output_type": "execute_result"
    }
   ],
   "source": [
    "data[ data['country'].str.contains('Li', case=False) ]['country'].unique()"
   ]
  },
  {
   "cell_type": "code",
   "execution_count": 6,
   "metadata": {},
   "outputs": [
    {
     "data": {
      "text/plain": [
       "240580.0"
      ]
     },
     "execution_count": 6,
     "metadata": {},
     "output_type": "execute_result"
    }
   ],
   "source": [
    "(sum\n",
    " \n",
    " (data\n",
    "  \n",
    "  [ \n",
    "      ( data.quantity >= 0 ) \n",
    "      &\n",
    "      ( (data.year >= 2005) & (data.year <= 2010) ) \n",
    "      &\n",
    "      ( (data.category == 4) |\n",
    "       (data.category == 12) |\n",
    "       (data.category == 21) )\n",
    "      &\n",
    "      ( (data['country'] == 'Latvia') |\n",
    "       (data['country'] == 'Lithuania') |\n",
    "       (data['country'] == 'Estonia') ) \n",
    "  ]\n",
    "  \n",
    "  ['quantity']\n",
    "  .values\n",
    "  .tolist()\n",
    " \n",
    " )\n",
    " \n",
    ")"
   ]
  },
  {
   "cell_type": "markdown",
   "metadata": {},
   "source": [
    "Задание 3"
   ]
  },
  {
   "cell_type": "code",
   "execution_count": 7,
   "metadata": {},
   "outputs": [
    {
     "data": {
      "text/plain": [
       "8"
      ]
     },
     "execution_count": 7,
     "metadata": {},
     "output_type": "execute_result"
    }
   ],
   "source": [
    "len(pd.read_html('https://fortrader.org/quotes'))"
   ]
  },
  {
   "cell_type": "code",
   "execution_count": 8,
   "metadata": {},
   "outputs": [
    {
     "data": {
      "text/html": [
       "<div>\n",
       "<style scoped>\n",
       "    .dataframe tbody tr th:only-of-type {\n",
       "        vertical-align: middle;\n",
       "    }\n",
       "\n",
       "    .dataframe tbody tr th {\n",
       "        vertical-align: top;\n",
       "    }\n",
       "\n",
       "    .dataframe thead th {\n",
       "        text-align: right;\n",
       "    }\n",
       "</style>\n",
       "<table border=\"1\" class=\"dataframe\">\n",
       "  <thead>\n",
       "    <tr style=\"text-align: right;\">\n",
       "      <th></th>\n",
       "      <th>Название</th>\n",
       "      <th>Цена</th>\n",
       "      <th>Изменение</th>\n",
       "      <th>Изменение(%)</th>\n",
       "      <th>Обновлено</th>\n",
       "    </tr>\n",
       "  </thead>\n",
       "  <tbody>\n",
       "    <tr>\n",
       "      <th>0</th>\n",
       "      <td>EURRUB Курс евро к рублю сегодня</td>\n",
       "      <td>80.6510</td>\n",
       "      <td>-0.5103</td>\n",
       "      <td>-0.6287</td>\n",
       "      <td>NaN</td>\n",
       "    </tr>\n",
       "    <tr>\n",
       "      <th>1</th>\n",
       "      <td>USDRUB Курс рубля к доллару</td>\n",
       "      <td>71.4132</td>\n",
       "      <td>-0.3041</td>\n",
       "      <td>-0.4240</td>\n",
       "      <td>NaN</td>\n",
       "    </tr>\n",
       "  </tbody>\n",
       "</table>\n",
       "</div>"
      ],
      "text/plain": [
       "                           Название     Цена  Изменение  Изменение(%)  \\\n",
       "0  EURRUB Курс евро к рублю сегодня  80.6510    -0.5103       -0.6287   \n",
       "1       USDRUB Курс рубля к доллару  71.4132    -0.3041       -0.4240   \n",
       "\n",
       "   Обновлено  \n",
       "0        NaN  \n",
       "1        NaN  "
      ]
     },
     "execution_count": 8,
     "metadata": {},
     "output_type": "execute_result"
    }
   ],
   "source": [
    "pd.read_html('https://fortrader.org/quotes')[0]"
   ]
  },
  {
   "cell_type": "code",
   "execution_count": 9,
   "metadata": {},
   "outputs": [
    {
     "data": {
      "text/html": [
       "<div>\n",
       "<style scoped>\n",
       "    .dataframe tbody tr th:only-of-type {\n",
       "        vertical-align: middle;\n",
       "    }\n",
       "\n",
       "    .dataframe tbody tr th {\n",
       "        vertical-align: top;\n",
       "    }\n",
       "\n",
       "    .dataframe thead th {\n",
       "        text-align: right;\n",
       "    }\n",
       "</style>\n",
       "<table border=\"1\" class=\"dataframe\">\n",
       "  <thead>\n",
       "    <tr style=\"text-align: right;\">\n",
       "      <th></th>\n",
       "      <th>Название</th>\n",
       "      <th>Цена</th>\n",
       "      <th>Изменение</th>\n",
       "      <th>Изменение(%)</th>\n",
       "      <th>Обновлено</th>\n",
       "    </tr>\n",
       "  </thead>\n",
       "  <tbody>\n",
       "    <tr>\n",
       "      <th>0</th>\n",
       "      <td>Фьючерс РТС Курс фьючерса на индекс РТС</td>\n",
       "      <td>118130.00</td>\n",
       "      <td>+116 883</td>\n",
       "      <td>+9 372</td>\n",
       "      <td>NaN</td>\n",
       "    </tr>\n",
       "    <tr>\n",
       "      <th>1</th>\n",
       "      <td>РТС Курс индекса РТС</td>\n",
       "      <td>1247.83</td>\n",
       "      <td>+0.69</td>\n",
       "      <td>+0.06</td>\n",
       "      <td>NaN</td>\n",
       "    </tr>\n",
       "    <tr>\n",
       "      <th>2</th>\n",
       "      <td>DAX30</td>\n",
       "      <td>12616.80</td>\n",
       "      <td>-116.70</td>\n",
       "      <td>-0.92</td>\n",
       "      <td>NaN</td>\n",
       "    </tr>\n",
       "    <tr>\n",
       "      <th>3</th>\n",
       "      <td>Индекс Dow 30 (DJI)</td>\n",
       "      <td>25956.00</td>\n",
       "      <td>-331</td>\n",
       "      <td>-1</td>\n",
       "      <td>NaN</td>\n",
       "    </tr>\n",
       "    <tr>\n",
       "      <th>4</th>\n",
       "      <td>FTSE</td>\n",
       "      <td>7137.70</td>\n",
       "      <td>+851.8</td>\n",
       "      <td>+13.6</td>\n",
       "      <td>NaN</td>\n",
       "    </tr>\n",
       "    <tr>\n",
       "      <th>5</th>\n",
       "      <td>CAC 40</td>\n",
       "      <td>5030.50</td>\n",
       "      <td>-59.1</td>\n",
       "      <td>-1.2</td>\n",
       "      <td>NaN</td>\n",
       "    </tr>\n",
       "    <tr>\n",
       "      <th>6</th>\n",
       "      <td>Nasdaq 100</td>\n",
       "      <td>10592.00</td>\n",
       "      <td>-12.10</td>\n",
       "      <td>-0.11</td>\n",
       "      <td>NaN</td>\n",
       "    </tr>\n",
       "    <tr>\n",
       "      <th>7</th>\n",
       "      <td>Russell 2000</td>\n",
       "      <td>1424.50</td>\n",
       "      <td>-18.4</td>\n",
       "      <td>-1.3</td>\n",
       "      <td>NaN</td>\n",
       "    </tr>\n",
       "    <tr>\n",
       "      <th>8</th>\n",
       "      <td>S&amp;P 500</td>\n",
       "      <td>3157.00</td>\n",
       "      <td>-19.75</td>\n",
       "      <td>-0.62</td>\n",
       "      <td>NaN</td>\n",
       "    </tr>\n",
       "    <tr>\n",
       "      <th>9</th>\n",
       "      <td>IBEX 35</td>\n",
       "      <td>7433.40</td>\n",
       "      <td>-90.1</td>\n",
       "      <td>-1.2</td>\n",
       "      <td>NaN</td>\n",
       "    </tr>\n",
       "    <tr>\n",
       "      <th>10</th>\n",
       "      <td>Nikkei 225</td>\n",
       "      <td>22555.00</td>\n",
       "      <td>-79</td>\n",
       "      <td>-0</td>\n",
       "      <td>NaN</td>\n",
       "    </tr>\n",
       "    <tr>\n",
       "      <th>11</th>\n",
       "      <td>Euro Stoxx 50</td>\n",
       "      <td>3318.60</td>\n",
       "      <td>-35.7</td>\n",
       "      <td>-1.1</td>\n",
       "      <td>NaN</td>\n",
       "    </tr>\n",
       "    <tr>\n",
       "      <th>12</th>\n",
       "      <td>S&amp;P/ASX 200</td>\n",
       "      <td>6048.00</td>\n",
       "      <td>нет данных</td>\n",
       "      <td>нет данных</td>\n",
       "      <td>NaN</td>\n",
       "    </tr>\n",
       "    <tr>\n",
       "      <th>13</th>\n",
       "      <td>MIB</td>\n",
       "      <td>19960.00</td>\n",
       "      <td>нет данных</td>\n",
       "      <td>нет данных</td>\n",
       "      <td>NaN</td>\n",
       "    </tr>\n",
       "  </tbody>\n",
       "</table>\n",
       "</div>"
      ],
      "text/plain": [
       "                                   Название       Цена   Изменение  \\\n",
       "0   Фьючерс РТС Курс фьючерса на индекс РТС  118130.00    +116 883   \n",
       "1                      РТС Курс индекса РТС    1247.83       +0.69   \n",
       "2                                     DAX30   12616.80     -116.70   \n",
       "3                       Индекс Dow 30 (DJI)   25956.00        -331   \n",
       "4                                      FTSE    7137.70      +851.8   \n",
       "5                                    CAC 40    5030.50       -59.1   \n",
       "6                                Nasdaq 100   10592.00      -12.10   \n",
       "7                              Russell 2000    1424.50       -18.4   \n",
       "8                                   S&P 500    3157.00      -19.75   \n",
       "9                                   IBEX 35    7433.40       -90.1   \n",
       "10                               Nikkei 225   22555.00         -79   \n",
       "11                            Euro Stoxx 50    3318.60       -35.7   \n",
       "12                              S&P/ASX 200    6048.00  нет данных   \n",
       "13                                      MIB   19960.00  нет данных   \n",
       "\n",
       "   Изменение(%)  Обновлено  \n",
       "0        +9 372        NaN  \n",
       "1         +0.06        NaN  \n",
       "2         -0.92        NaN  \n",
       "3            -1        NaN  \n",
       "4         +13.6        NaN  \n",
       "5          -1.2        NaN  \n",
       "6         -0.11        NaN  \n",
       "7          -1.3        NaN  \n",
       "8         -0.62        NaN  \n",
       "9          -1.2        NaN  \n",
       "10           -0        NaN  \n",
       "11         -1.1        NaN  \n",
       "12   нет данных        NaN  \n",
       "13   нет данных        NaN  "
      ]
     },
     "execution_count": 9,
     "metadata": {},
     "output_type": "execute_result"
    }
   ],
   "source": [
    "pd.read_html('https://fortrader.org/quotes')[7]"
   ]
  },
  {
   "cell_type": "code",
   "execution_count": null,
   "metadata": {},
   "outputs": [],
   "source": []
  }
 ],
 "metadata": {
  "kernelspec": {
   "display_name": "Python 3",
   "language": "python",
   "name": "python3"
  },
  "language_info": {
   "codemirror_mode": {
    "name": "ipython",
    "version": 3
   },
   "file_extension": ".py",
   "mimetype": "text/x-python",
   "name": "python",
   "nbconvert_exporter": "python",
   "pygments_lexer": "ipython3",
   "version": "3.7.6"
  }
 },
 "nbformat": 4,
 "nbformat_minor": 4
}
