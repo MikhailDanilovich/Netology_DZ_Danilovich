{
 "cells": [
  {
   "cell_type": "code",
   "execution_count": 1,
   "metadata": {},
   "outputs": [],
   "source": [
    "documents = [\n",
    "    {'type': 'passport', 'number': '2207 876234', 'name': 'Василий Гупкин'},\n",
    "    {'type': 'invoice', 'number': '11-2', 'name': 'Геннадий Покемонов'},\n",
    "    {'type': 'insurance', 'number': '10006', 'name': 'Аристарх Павлов'}\n",
    "]\n",
    "directories = {\n",
    "    '1': ['2207 876234', '11-2'],\n",
    "    '2': ['10006'],\n",
    "    '3': []\n",
    "}"
   ]
  },
  {
   "cell_type": "code",
   "execution_count": 2,
   "metadata": {},
   "outputs": [],
   "source": [
    "def findname():\n",
    "    number_of_user = input('Введите номер документа и получите имя ')\n",
    "    while len([x for x in documents if x['number'] == number_of_user]) != 1:\n",
    "        number_of_user = input('Введите правильную информацию ')\n",
    "    for document in documents:\n",
    "        if document['number'] == number_of_user:\n",
    "            result = document['name'] \n",
    "            return result"
   ]
  },
  {
   "cell_type": "code",
   "execution_count": 3,
   "metadata": {},
   "outputs": [],
   "source": [
    "def findline():\n",
    "    number_of_user = input('Введите номер документа и получите номер полки ')\n",
    "    while len([x for x in documents if x['number'] == number_of_user]) != 1:\n",
    "        number_of_user = input('Введите правильную информацию ')\n",
    "    for line, number in directories.items():\n",
    "        if number_of_user in number:\n",
    "            result = line\n",
    "            return result"
   ]
  },
  {
   "cell_type": "code",
   "execution_count": 4,
   "metadata": {},
   "outputs": [],
   "source": [
    "finddocuments = lambda person: f'''{person['type']} \"{person['number']}\" \"{person['name']}\"'''"
   ]
  },
  {
   "cell_type": "code",
   "execution_count": 5,
   "metadata": {},
   "outputs": [],
   "source": [
    "def makenewline():\n",
    "    new_number = input('Введите номер новой полки ')\n",
    "    while new_number in directories.keys():\n",
    "        new_number = input('Полка с таким номером уже существует. Придумайте новую ')    \n",
    "    directories.setdefault(f'{new_number}', [])"
   ]
  },
  {
   "cell_type": "code",
   "execution_count": 6,
   "metadata": {},
   "outputs": [],
   "source": [
    "def deletedocument(): \n",
    "    unusefull_document = input('Введите номер документа, который будет удален ')\n",
    "    while len([x for x in documents if x['number'] == unusefull_document]) != 1:\n",
    "        unusefull_document = input('Введите правильную информацию ')\n",
    "    for x in range(len(documents)): \n",
    "        if unusefull_document == documents[x]['number']: \n",
    "            code_1 = x\n",
    "    documents.remove(documents[code_1]) \n",
    "    for number in directories.values(): \n",
    "        if unusefull_document in number:\n",
    "            number.remove(unusefull_document)  "
   ]
  },
  {
   "cell_type": "code",
   "execution_count": 7,
   "metadata": {},
   "outputs": [],
   "source": [
    "def replace():\n",
    "    number = input('Введите номер документа ') \n",
    "    while len([x for x in documents if x['number'] == number]) != 1:\n",
    "        number = input('Введите правильную информацию ')\n",
    "    line = input('Введите номер полки. Если такой полки нет, появится новая ') \n",
    "    for numbers in directories.values():\n",
    "        if number in numbers:\n",
    "            numbers.remove(number) \n",
    "    if line in directories.keys(): \n",
    "        (directories[line]).append(number)  \n",
    "    else:\n",
    "        directories.setdefault(line, [f'{number}'])"
   ]
  },
  {
   "cell_type": "code",
   "execution_count": 8,
   "metadata": {},
   "outputs": [],
   "source": [
    "def add_newdocument():\n",
    "    number_of_document = input('Введите номер нового документа ')\n",
    "    type_of_document = input('Введите тип нового документа ')\n",
    "    newname = input('Введите имя владельца ')\n",
    "    number_of_line = input('Введите номер полки. Если такой полки нет, появится новая ')\n",
    "    documents.append({'type': f'{type_of_document}', 'number': f'{number_of_document}', 'name': f'{newname}'})\n",
    "    if number_of_line in directories.keys(): \n",
    "        (directories[number_of_line]).append(number_of_document)  \n",
    "    else:\n",
    "        directories.setdefault(number_of_line, [f'{number_of_document}'])"
   ]
  },
  {
   "cell_type": "code",
   "execution_count": 9,
   "metadata": {},
   "outputs": [
    {
     "name": "stdout",
     "output_type": "stream",
     "text": [
      "Введите p - для поиска имени по номеру документа \n",
      "Введите s - для поиска полки по номеру документа \n",
      "Введите l - для получения списка всех документов \n",
      "Введите as - для добавления новой полки \n",
      "Введите d - для удаления документа из каталога и с полок \n",
      "Введите move - для перемещения документа по полкам \n",
      "Введите a - чтобы добавить документ \n",
      "987\n",
      "Please check your command and try again \n",
      "l\n",
      "passport \"2207 876234\" \"Василий Гупкин\"\n",
      "invoice \"11-2\" \"Геннадий Покемонов\"\n",
      "insurance \"10006\" \"Аристарх Павлов\"\n"
     ]
    }
   ],
   "source": [
    "command = input('Введите p - для поиска имени по номеру документа \\nВведите s - для поиска полки по номеру документа \\nВведите l - для получения списка всех документов \\nВведите as - для добавления новой полки \\nВведите d - для удаления документа из каталога и с полок \\nВведите move - для перемещения документа по полкам \\nВведите a - чтобы добавить документ \\n')\n",
    "while (command != 'p') and (command != 's') and (command != 'l') and (command != 'as') and (command != 'd') and (command != 'move') and (command != 'a'):\n",
    "    command = input('Please check your command and try again \\n')\n",
    "if command == 'p':\n",
    "    print(findname())\n",
    "elif command == 's':\n",
    "    print(findline())\n",
    "elif command == 'l':\n",
    "    for person in map(finddocuments, documents):\n",
    "        print(person)\n",
    "elif command == 'as':\n",
    "    makenewline()\n",
    "    print('Перечень полок теперь такой:')\n",
    "    for i, i_1 in directories.items():\n",
    "        print(i, i_1)\n",
    "elif command == 'd':\n",
    "    deletedocument()\n",
    "    print('Теперь в каталоге:')\n",
    "    for i in documents:\n",
    "        print(i)\n",
    "    if len(documents) == 0:\n",
    "        print('Пусто')\n",
    "    print('Теперь на полках:')\n",
    "    for i, i_1 in directories.items():\n",
    "        print(i, i_1)\n",
    "elif command == 'move':\n",
    "    replace() \n",
    "    print('Теперь на полках:')\n",
    "    for i, i_1 in directories.items():\n",
    "        print(i, i_1)\n",
    "elif command == 'a':\n",
    "    add_newdocument()\n",
    "    print('Теперь в каталоге:')\n",
    "    for i in documents:\n",
    "        print(i)\n",
    "    print('Теперь на полках:')\n",
    "    for i, i_1 in directories.items():\n",
    "        print(i, i_1)  "
   ]
  }
 ],
 "metadata": {
  "kernelspec": {
   "display_name": "Python 3",
   "language": "python",
   "name": "python3"
  },
  "language_info": {
   "codemirror_mode": {
    "name": "ipython",
    "version": 3
   },
   "file_extension": ".py",
   "mimetype": "text/x-python",
   "name": "python",
   "nbconvert_exporter": "python",
   "pygments_lexer": "ipython3",
   "version": "3.7.6"
  }
 },
 "nbformat": 4,
 "nbformat_minor": 4
}
